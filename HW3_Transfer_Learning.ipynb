{
 "cells": [
  {
   "cell_type": "markdown",
   "metadata": {},
   "source": [
    "## Notebook settings"
   ]
  },
  {
   "cell_type": "code",
   "execution_count": 1,
   "metadata": {
    "collapsed": true
   },
   "outputs": [],
   "source": [
    "# To support both python 2 and python 3\n",
    "from __future__ import division, print_function, unicode_literals\n",
    "\n",
    "# Common imports\n",
    "import numpy as np\n",
    "import os\n",
    "import tensorflow as tf\n",
    "import pandas as pd\n",
    "from sklearn.model_selection import KFold  # import sklearn Kfold to implement cross-validation\n",
    "\n",
    "\n",
    "# to make this notebook's output stable across runs\n",
    "def reset_graph(seed=42):\n",
    "    tf.reset_default_graph()\n",
    "    tf.set_random_seed(seed)\n",
    "    np.random.seed(seed)\n",
    "\n",
    "reset_graph()"
   ]
  },
  {
   "cell_type": "markdown",
   "metadata": {},
   "source": [
    "## Prepare data"
   ]
  },
  {
   "cell_type": "code",
   "execution_count": 2,
   "metadata": {},
   "outputs": [
    {
     "name": "stdout",
     "output_type": "stream",
     "text": [
      "Extracting /tmp/data/train-images-idx3-ubyte.gz\n",
      "Extracting /tmp/data/train-labels-idx1-ubyte.gz\n",
      "Extracting /tmp/data/t10k-images-idx3-ubyte.gz\n",
      "Extracting /tmp/data/t10k-labels-idx1-ubyte.gz\n"
     ]
    }
   ],
   "source": [
    "# load data: digits 5 to 9, but still label with 0 to 4, \n",
    "# because TensorFlow expects label's integers from 0 to n_classes-1.\n",
    "from tensorflow.examples.tutorials.mnist import input_data\n",
    "mnist = input_data.read_data_sets(\"/tmp/data/\")\n",
    "\n",
    "X_train2_full = mnist.train.images[mnist.train.labels >= 5]\n",
    "y_train2_full = mnist.train.labels[mnist.train.labels >= 5] - 5\n",
    "\n",
    "X_valid2_full = mnist.validation.images[mnist.validation.labels >= 5]\n",
    "y_valid2_full = mnist.validation.labels[mnist.validation.labels >= 5] - 5\n",
    "\n",
    "X_test2 = mnist.test.images[mnist.test.labels >= 5]\n",
    "y_test2 = mnist.test.labels[mnist.test.labels >= 5] - 5"
   ]
  },
  {
   "cell_type": "code",
   "execution_count": 3,
   "metadata": {
    "collapsed": true
   },
   "outputs": [],
   "source": [
    "# we want to keep only 100 instances per class in the training set \n",
    "# and let's keep only 30 instances per class in the validation set\n",
    "# tesing set is already loaded above\n",
    "def sample_n_instances_per_class(X, y, n=100):\n",
    "    Xs, ys = [], []\n",
    "    for label in np.unique(y):\n",
    "        idx = (y == label)\n",
    "        Xc = X[idx][:n]\n",
    "        yc = y[idx][:n]\n",
    "        Xs.append(Xc)\n",
    "        ys.append(yc)\n",
    "    return np.concatenate(Xs), np.concatenate(ys)\n",
    "\n",
    "X_train2, y_train2 = sample_n_instances_per_class(X_train2_full, y_train2_full, n=100)\n",
    "X_valid2, y_valid2 = sample_n_instances_per_class(X_valid2_full, y_valid2_full, n=30)"
   ]
  },
  {
   "cell_type": "markdown",
   "metadata": {},
   "source": [
    "## Hyper parameters"
   ]
  },
  {
   "cell_type": "code",
   "execution_count": 4,
   "metadata": {
    "collapsed": true
   },
   "outputs": [],
   "source": [
    "lr = 5e-3\n",
    "batch_size = 16\n",
    "epochs = 1000\n",
    "saturate_limit = 20  # for applying early stopping\n",
    "fold_num = 5"
   ]
  },
  {
   "cell_type": "markdown",
   "metadata": {
    "collapsed": true
   },
   "source": [
    "## HW 3.1 - Softmax-only transfer-learning"
   ]
  },
  {
   "cell_type": "markdown",
   "metadata": {},
   "source": [
    "### Model"
   ]
  },
  {
   "cell_type": "code",
   "execution_count": 5,
   "metadata": {},
   "outputs": [],
   "source": [
    "pretrained_weights_path = './pretrained_hw2_weights/Team59_HW2.ckpt.meta'\n",
    "\n",
    "inputs_num = 784\n",
    "outputs_num = 5\n",
    "\n",
    "tf.reset_default_graph()\n",
    "saver = tf.train.import_meta_graph(pretrained_weights_path)\n",
    "graph = tf.get_default_graph()\n",
    "\n",
    "X = graph.get_tensor_by_name('X:0')\n",
    "y = graph.get_tensor_by_name('y:0')\n",
    "loss_function = graph.get_tensor_by_name('loss:0')\n",
    "Y_prob = graph.get_tensor_by_name('Y_probability:0')\n",
    "logits = Y_prob.op.inputs[0]\n",
    "accuracy = graph.get_tensor_by_name('accuracy:0')\n",
    "\n",
    "output_layer_vars = tf.get_collection(tf.GraphKeys.TRAINABLE_VARIABLES, scope='logits')\n",
    "optimizer = tf.train.AdamOptimizer(learning_rate=lr, name='op_HW3-1')\n",
    "training_op = optimizer.minimize(loss_function, var_list=output_layer_vars)\n"
   ]
  },
  {
   "cell_type": "code",
   "execution_count": 6,
   "metadata": {},
   "outputs": [
    {
     "name": "stdout",
     "output_type": "stream",
     "text": [
      "************************************************************\n",
      "Fold: 1\n",
      "Best epoch: 37\n",
      "Best accurancy: 0.861538\n",
      "Best loss: 0.36461\n",
      "************************************************************ \n",
      "\n",
      "============================================================\n",
      "Test data accurancy 0.819173\n",
      "============================================================ \n",
      "\n",
      "************************************************************\n",
      "Fold: 2\n",
      "Best epoch: 73\n",
      "Best accurancy: 0.876923\n",
      "Best loss: 0.362955\n",
      "************************************************************ \n",
      "\n",
      "============================================================\n",
      "Test data accurancy 0.827402\n",
      "============================================================ \n",
      "\n",
      "************************************************************\n",
      "Fold: 3\n",
      "Best epoch: 68\n",
      "Best accurancy: 0.823077\n",
      "Best loss: 0.474092\n",
      "************************************************************ \n",
      "\n",
      "============================================================\n",
      "Test data accurancy 0.828225\n",
      "============================================================ \n",
      "\n",
      "************************************************************\n",
      "Fold: 4\n",
      "Best epoch: 101\n",
      "Best accurancy: 0.884615\n",
      "Best loss: 0.322719\n",
      "************************************************************ \n",
      "\n",
      "============================================================\n",
      "Test data accurancy 0.832545\n",
      "============================================================ \n",
      "\n",
      "************************************************************\n",
      "Fold: 5\n",
      "Best epoch: 56\n",
      "Best accurancy: 0.869231\n",
      "Best loss: 0.357552\n",
      "************************************************************ \n",
      "\n",
      "============================================================\n",
      "Test data accurancy 0.828225\n",
      "============================================================ \n",
      "\n"
     ]
    }
   ],
   "source": [
    "# import sklearn Kfold to implement cross-validation\n",
    "from sklearn.model_selection import KFold\n",
    "\n",
    "# Merge training and validation set for K-fold cross validation\n",
    "X_data = np.concatenate((X_train2, X_valid2), axis=0)\n",
    "y_data = np.concatenate((y_train2, y_valid2), axis=0)\n",
    "\n",
    "# 10-folder\n",
    "kf = KFold(n_splits=fold_num, shuffle=True)\n",
    "\n",
    "for fold_index, fold_indices in enumerate(kf.split(X_data), 1):\n",
    "    # get data of this fold\n",
    "    train_fold_indices, test_fold_indices = fold_indices\n",
    "    X_train_fold, X_valid_fold = X_data[train_fold_indices], X_data[test_fold_indices]\n",
    "    y_train_fold, y_valid_fold = y_data[train_fold_indices], y_data[test_fold_indices]\n",
    "    \n",
    "    with tf.Session() as sess:\n",
    "        sess.run(tf.global_variables_initializer())\n",
    "        \n",
    "        # parameters\n",
    "        saturate_count = 0\n",
    "        best_acc = 0.\n",
    "        best_loss = 1000.\n",
    "        best_epoch = -1\n",
    "        iterations = int(X_train_fold.shape[0] / batch_size)\n",
    "        \n",
    "        # training for number of epochs times\n",
    "        for e in range(1, epochs + 1):\n",
    "            for i in range(iterations):\n",
    "                if(i==0):\n",
    "                    batch_x = X_train_fold[:batch_size]\n",
    "                    batch_y = y_train_fold[:batch_size]\n",
    "                else:\n",
    "                    batch_x = X_train_fold[i * batch_size : (i + 1) * batch_size]\n",
    "                    batch_y = y_train_fold[i * batch_size : (i + 1) * batch_size]\n",
    "                    \n",
    "                sess.run(training_op, feed_dict={X: batch_x, y: batch_y})\n",
    "        \n",
    "            # validate\n",
    "            loss, acc = sess.run([loss_function, accuracy], feed_dict={X: X_valid_fold, y: y_valid_fold})\n",
    "        \n",
    "            if best_loss > loss:\n",
    "                best_acc = acc\n",
    "                best_loss = loss\n",
    "                best_epoch = e\n",
    "                saturate_count = 0\n",
    "            else:\n",
    "                saturate_count += 1\n",
    "\n",
    "                if saturate_count >= saturate_limit:  # stop if saturate\n",
    "                    break\n",
    "    \n",
    "        # print the best result of this fold cross all epochs\n",
    "        print('*' * 60)\n",
    "        print('Fold:', fold_index)\n",
    "        print('Best epoch:', best_epoch)\n",
    "        print('Best accurancy:', best_acc)\n",
    "        print('Best loss:', best_loss)\n",
    "        print('*' * 60, '\\n')\n",
    "    \n",
    "        # print the test data accurancy\n",
    "        print('=' * 60)\n",
    "        test_acc = sess.run(accuracy,feed_dict={X: X_test2,\n",
    "                                                y: y_test2})\n",
    "        print(\"Test data accurancy\", test_acc)\n",
    "        print('=' * 60, '\\n')\n",
    "        "
   ]
  },
  {
   "cell_type": "markdown",
   "metadata": {},
   "source": [
    "## HW 3.2 - Caching the 5th layer"
   ]
  },
  {
   "cell_type": "markdown",
   "metadata": {},
   "source": [
    "## HW 3.3 - 4-layers-only transfer-learning"
   ]
  },
  {
   "cell_type": "markdown",
   "metadata": {},
   "source": [
    "## HW 3.4 - Bonus"
   ]
  }
 ],
 "metadata": {
  "kernelspec": {
   "display_name": "Python 3",
   "language": "python",
   "name": "python3"
  },
  "language_info": {
   "codemirror_mode": {
    "name": "ipython",
    "version": 3
   },
   "file_extension": ".py",
   "mimetype": "text/x-python",
   "name": "python",
   "nbconvert_exporter": "python",
   "pygments_lexer": "ipython3",
   "version": "3.5.4"
  }
 },
 "nbformat": 4,
 "nbformat_minor": 2
}
