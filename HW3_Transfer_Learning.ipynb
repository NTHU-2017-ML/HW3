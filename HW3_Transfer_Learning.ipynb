{
 "cells": [
  {
   "cell_type": "markdown",
   "metadata": {},
   "source": [
    "## Notebook settings"
   ]
  },
  {
   "cell_type": "code",
   "execution_count": 33,
   "metadata": {
    "collapsed": true
   },
   "outputs": [],
   "source": [
    "# To support both python 2 and python 3\n",
    "from __future__ import division, print_function, unicode_literals\n",
    "\n",
    "# Common imports\n",
    "import numpy as np\n",
    "import os\n",
    "import tensorflow as tf\n",
    "import pandas as pd\n",
    "from sklearn.model_selection import KFold  # import sklearn Kfold to implement cross-validation\n",
    "\n",
    "\n",
    "# to make this notebook's output stable across runs\n",
    "def reset_graph(seed=42):\n",
    "    tf.reset_default_graph()\n",
    "    tf.set_random_seed(seed)\n",
    "    np.random.seed(seed)\n",
    "\n",
    "reset_graph()"
   ]
  },
  {
   "cell_type": "markdown",
   "metadata": {},
   "source": [
    "## Prepare data"
   ]
  },
  {
   "cell_type": "code",
   "execution_count": 34,
   "metadata": {},
   "outputs": [
    {
     "name": "stdout",
     "output_type": "stream",
     "text": [
      "Extracting /tmp/data/train-images-idx3-ubyte.gz\n",
      "Extracting /tmp/data/train-labels-idx1-ubyte.gz\n",
      "Extracting /tmp/data/t10k-images-idx3-ubyte.gz\n",
      "Extracting /tmp/data/t10k-labels-idx1-ubyte.gz\n"
     ]
    }
   ],
   "source": [
    "# load data: digits 5 to 9, but still label with 0 to 4, \n",
    "# because TensorFlow expects label's integers from 0 to n_classes-1.\n",
    "from tensorflow.examples.tutorials.mnist import input_data\n",
    "mnist = input_data.read_data_sets(\"/tmp/data/\")\n",
    "\n",
    "X_train2_full = mnist.train.images[mnist.train.labels >= 5]\n",
    "y_train2_full = mnist.train.labels[mnist.train.labels >= 5] - 5\n",
    "\n",
    "X_valid2_full = mnist.validation.images[mnist.validation.labels >= 5]\n",
    "y_valid2_full = mnist.validation.labels[mnist.validation.labels >= 5] - 5\n",
    "\n",
    "X_test2 = mnist.test.images[mnist.test.labels >= 5]\n",
    "y_test2 = mnist.test.labels[mnist.test.labels >= 5] - 5"
   ]
  },
  {
   "cell_type": "code",
   "execution_count": 35,
   "metadata": {
    "collapsed": true
   },
   "outputs": [],
   "source": [
    "# we want to keep only 100 instances per class in the training set \n",
    "# and let's keep only 30 instances per class in the validation set\n",
    "# tesing set is already loaded above\n",
    "def sample_n_instances_per_class(X, y, n=100):\n",
    "    Xs, ys = [], []\n",
    "    for label in np.unique(y):\n",
    "        idx = (y == label)\n",
    "        Xc = X[idx][:n]\n",
    "        yc = y[idx][:n]\n",
    "        Xs.append(Xc)\n",
    "        ys.append(yc)\n",
    "    return np.concatenate(Xs), np.concatenate(ys)\n",
    "\n",
    "X_train2, y_train2 = sample_n_instances_per_class(X_train2_full, y_train2_full, n=100)\n",
    "X_valid2, y_valid2 = sample_n_instances_per_class(X_valid2_full, y_valid2_full, n=30)"
   ]
  },
  {
   "cell_type": "code",
   "execution_count": 36,
   "metadata": {},
   "outputs": [
    {
     "name": "stdout",
     "output_type": "stream",
     "text": [
      "Train Label:  (500, 5)\n",
      "Validation Label:  (150, 5)\n",
      "Test Label:  (4861, 5)\n"
     ]
    }
   ],
   "source": [
    "y_train_one_hot = np.zeros((len(y_train2), 5))\n",
    "y_train_one_hot[np.arange(len(y_train2)), y_train2] = 1\n",
    "\n",
    "y_valid_one_hot = np.zeros((len(y_valid2), 5))\n",
    "y_valid_one_hot[np.arange(len(y_valid2)), y_valid2] = 1\n",
    "\n",
    "y_test_one_hot = np.zeros((len(y_test2), 5))\n",
    "y_test_one_hot[np.arange(len(y_test2)), y_test2] = 1\n",
    "\n",
    "print (\"Train Label: \", y_train_one_hot.shape)\n",
    "print (\"Validation Label: \", y_valid_one_hot.shape)\n",
    "print (\"Test Label: \", y_test_one_hot.shape)"
   ]
  },
  {
   "cell_type": "markdown",
   "metadata": {},
   "source": [
    "## Define layer"
   ]
  },
  {
   "cell_type": "code",
   "execution_count": 37,
   "metadata": {
    "collapsed": true
   },
   "outputs": [],
   "source": [
    "pretrained_weights_path = './pretrained_hw2_weights/Team59_HW2.ckpt.meta'\n",
    "\n",
    "tf.reset_default_graph()\n",
    "saver = tf.train.import_meta_graph(pretrained_weights_path)\n",
    "graph = tf.get_default_graph()\n",
    "\n",
    "def layer(output_dim, input_dim, inputs, layer, dropout_rate, activation=None, use_pretrained=False):\n",
    "    \"\"\"\n",
    "    layer construction function\n",
    "    \"\"\"\n",
    "    W_name = 'W' + layer\n",
    "    b_name = 'b' + layer\n",
    "    \n",
    "    if use_pretrained:\n",
    "        W = graph.get_tensor_by_name(W_name + \":0\")\n",
    "        b = graph.get_tensor_by_name(b_name + \":0\")\n",
    "    else:\n",
    "        he_init = tf.contrib.layers.variance_scaling_initializer()\n",
    "        W = tf.get_variable(W_name, shape=[input_dim, output_dim], initializer=he_init)\n",
    "        b = tf.get_variable(b_name, shape=[1, output_dim], initializer=he_init)\n",
    "\n",
    "    XWb = tf.matmul(inputs, W) + b\n",
    "    XWb = tf.nn.dropout(XWb, (1-dropout_rate))\n",
    "    \n",
    "    if activation is None:\n",
    "        outputs = XWb\n",
    "    else:\n",
    "        outputs = activation(XWb)\n",
    "        \n",
    "    return outputs\n"
   ]
  },
  {
   "cell_type": "markdown",
   "metadata": {},
   "source": [
    "## Hyper parameters"
   ]
  },
  {
   "cell_type": "code",
   "execution_count": 38,
   "metadata": {
    "collapsed": true
   },
   "outputs": [],
   "source": [
    "lr = 5e-3\n",
    "batch_size = 16\n",
    "epochs = 1000\n",
    "saturate_limit = 20  # for applying early stopping\n",
    "fold_num = 5\n"
   ]
  },
  {
   "cell_type": "markdown",
   "metadata": {
    "collapsed": true
   },
   "source": [
    "## HW 3.1 - Softmax-only transfer-learning"
   ]
  },
  {
   "cell_type": "markdown",
   "metadata": {},
   "source": [
    "### Model"
   ]
  },
  {
   "cell_type": "code",
   "execution_count": 39,
   "metadata": {
    "collapsed": true
   },
   "outputs": [],
   "source": [
    "class ModelHw31():\n",
    "    def __init__(self):\n",
    "        self.define_layers()\n",
    "        \n",
    "    def define_layers(self):\n",
    "        self.x = tf.placeholder(\"float\", [None, 784])  # input layer\n",
    "        \n",
    "        # hidden layers\n",
    "        self.h1 = layer(output_dim=128, input_dim=784, inputs=self.x, layer=\"h1\", dropout_rate=0, activation=tf.nn.elu, use_pretrained=True)\n",
    "        self.h2 = layer(output_dim=128, input_dim=128, inputs=self.h1, layer=\"h2\", dropout_rate=0, activation=tf.nn.elu, use_pretrained=True)\n",
    "        self.h3 = layer(output_dim=128, input_dim=128, inputs=self.h2, layer=\"h3\", dropout_rate=0, activation=tf.nn.elu, use_pretrained=True)\n",
    "        self.h4 = layer(output_dim=128, input_dim=128, inputs=self.h3, layer=\"h4\", dropout_rate=0, activation=tf.nn.elu, use_pretrained=True)\n",
    "        self.h5 = layer(output_dim=128, input_dim=128, inputs=self.h4, layer=\"h5\", dropout_rate=0, activation=tf.nn.elu, use_pretrained=True)\n",
    "        \n",
    "        # output layers\n",
    "        self.y_predict = layer(output_dim=5, input_dim=128, inputs=self.h5, layer=\"output\", dropout_rate=0, activation=None, use_pretrained=False)\n",
    "        self.y_label = tf.placeholder(\"float\", [None, 5])\n",
    "        \n",
    "model = ModelHw31()"
   ]
  },
  {
   "cell_type": "markdown",
   "metadata": {},
   "source": [
    "### Training"
   ]
  },
  {
   "cell_type": "code",
   "execution_count": 40,
   "metadata": {},
   "outputs": [
    {
     "name": "stdout",
     "output_type": "stream",
     "text": [
      "************************************************************\n",
      "Fold: 1\n",
      "Best epoch: 525\n",
      "Best accurancy: 0.753846\n",
      "Best loss: 1.008\n",
      "************************************************************ \n",
      "\n",
      "************************************************************\n",
      "Fold: 2\n",
      "Best epoch: 877\n",
      "Best accurancy: 0.784615\n",
      "Best loss: 0.793813\n",
      "************************************************************ \n",
      "\n",
      "************************************************************\n",
      "Fold: 3\n",
      "Best epoch: 312\n",
      "Best accurancy: 0.769231\n",
      "Best loss: 0.864931\n",
      "************************************************************ \n",
      "\n",
      "************************************************************\n",
      "Fold: 4\n",
      "Best epoch: 112\n",
      "Best accurancy: 0.715385\n",
      "Best loss: 0.867756\n",
      "************************************************************ \n",
      "\n",
      "************************************************************\n",
      "Fold: 5\n",
      "Best epoch: 487\n",
      "Best accurancy: 0.730769\n",
      "Best loss: 0.898377\n",
      "************************************************************ \n",
      "\n"
     ]
    }
   ],
   "source": [
    "from sklearn.model_selection import KFold  # import sklearn Kfold to implement cross-validation\n",
    "\n",
    "\n",
    "# compare prediction and label\n",
    "correct = tf.equal(tf.argmax(model.y_label, 1), tf.argmax(model.y_predict, 1))\n",
    "accuracy = tf.reduce_mean(tf.cast(correct, \"float\"))\n",
    "\n",
    "# merge training and validation data for cross validation\n",
    "X_data = np.concatenate((X_train2, X_valid2), axis=0)\n",
    "y_data = np.concatenate((y_train_one_hot, y_valid_one_hot), axis=0)\n",
    "\n",
    "# set loss function: tf.nn.sparse_softmax_cross_entropy_with_logits required by the homework spec\n",
    "loss_function = tf.reduce_mean(tf.nn.softmax_cross_entropy_with_logits(logits=model.y_predict, labels=model.y_label))\n",
    "\n",
    "# set optimizer\n",
    "# TODO: train on softmax layer only\n",
    "output_layer_vars = [tf.get_collection(tf.GraphKeys.TRAINABLE_VARIABLES, scope='Woutput'),\n",
    "                     tf.get_collection(tf.GraphKeys.TRAINABLE_VARIABLES, scope='boutput')]\n",
    "optimizer = tf.train.AdamOptimizer(learning_rate=lr, name=\"training_op\").minimize(loss_function, var_list=output_layer_vars)\n",
    "    \n",
    "# cross validation\n",
    "kf = KFold(n_splits=fold_num, shuffle=True)\n",
    "iterations = int(X_train2.shape[0] / batch_size)\n",
    "for fold_index, fold_indices in enumerate(kf.split(X_data), 1):\n",
    "    # get data of this fold\n",
    "    train_fold_indices, test_fold_indices = fold_indices\n",
    "    X_train_fold, X_valid_fold = X_data[train_fold_indices], X_data[test_fold_indices]\n",
    "    y_train_fold, y_valid_fold = y_data[train_fold_indices], y_data[test_fold_indices]\n",
    "\n",
    "    # start training\n",
    "    with tf.Session() as sess:\n",
    "        sess.run(tf.global_variables_initializer())\n",
    "        \n",
    "        saturate_count = 0\n",
    "        best_acc = 0.\n",
    "        best_loss = 1000.\n",
    "        best_epoch = -1\n",
    "        for e in range(1, epochs + 1):\n",
    "            for i in range(iterations):\n",
    "                if(i == 0):\n",
    "                    batch_x = X_train_fold[:batch_size]\n",
    "                    batch_y = y_train_fold[:batch_size]\n",
    "                else:\n",
    "                    batch_x = X_train_fold[i * batch_size : (i + 1) * batch_size]\n",
    "                    batch_y = y_train_fold[i * batch_size : (i + 1) * batch_size]\n",
    "\n",
    "                sess.run(optimizer, feed_dict={model.x: batch_x, model.y_label: batch_y})\n",
    "\n",
    "            # validate\n",
    "            loss, acc = sess.run([loss_function, accuracy], feed_dict={model.x: X_valid_fold, model.y_label: y_valid_fold})\n",
    "            #print('epoch', e, '-', 'loss:', loss, '/', 'acc:', acc)\n",
    "\n",
    "            if best_loss > loss:\n",
    "                # TODO: save weights!!\n",
    "                best_acc = acc\n",
    "                best_loss = loss\n",
    "                best_epoch = e\n",
    "                saturate_count = 0\n",
    "            else:\n",
    "                saturate_count += 1\n",
    "\n",
    "                if saturate_count >= saturate_limit:  # stop if saturate\n",
    "                    break\n",
    "\n",
    "        # print the best result of this fold cross all epochs\n",
    "        print('*' * 60)\n",
    "        print('Fold:', fold_index)\n",
    "        print('Best epoch:', best_epoch)\n",
    "        print('Best accurancy:', best_acc)\n",
    "        print('Best loss:', best_loss)\n",
    "        print('*' * 60, '\\n')\n",
    "    \n",
    "# TODO: restore the best model cross all folds\n",
    "# TODO: test the best model on the whole test set\n",
    "# TODO: print the testing result on the whole test set\n"
   ]
  },
  {
   "cell_type": "markdown",
   "metadata": {},
   "source": [
    "## HW 3.2 - Caching the 5th layer"
   ]
  },
  {
   "cell_type": "markdown",
   "metadata": {},
   "source": [
    "## HW 3.3 - 4-layers-only transfer-learning"
   ]
  },
  {
   "cell_type": "markdown",
   "metadata": {},
   "source": [
    "## HW 3.4 - Bonus"
   ]
  }
 ],
 "metadata": {
  "kernelspec": {
   "display_name": "Python 3",
   "language": "python",
   "name": "python3"
  },
  "language_info": {
   "codemirror_mode": {
    "name": "ipython",
    "version": 3
   },
   "file_extension": ".py",
   "mimetype": "text/x-python",
   "name": "python",
   "nbconvert_exporter": "python",
   "pygments_lexer": "ipython3",
   "version": "3.5.4"
  }
 },
 "nbformat": 4,
 "nbformat_minor": 2
}
