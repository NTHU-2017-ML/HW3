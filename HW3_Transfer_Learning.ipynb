{
 "cells": [
  {
   "cell_type": "markdown",
   "metadata": {},
   "source": [
    "## Notebook settings"
   ]
  },
  {
   "cell_type": "code",
   "execution_count": 1,
   "metadata": {
    "collapsed": true
   },
   "outputs": [],
   "source": [
    "# To support both python 2 and python 3\n",
    "from __future__ import division, print_function, unicode_literals\n",
    "\n",
    "# Common imports\n",
    "import numpy as np\n",
    "import os\n",
    "import tensorflow as tf\n",
    "import pandas as pd\n",
    "from sklearn.model_selection import KFold  # import sklearn Kfold to implement cross-validation\n",
    "\n",
    "\n",
    "# to make this notebook's output stable across runs\n",
    "def reset_graph(seed=42):\n",
    "    tf.reset_default_graph()\n",
    "    tf.set_random_seed(seed)\n",
    "    np.random.seed(seed)\n",
    "\n",
    "reset_graph()"
   ]
  },
  {
   "cell_type": "markdown",
   "metadata": {},
   "source": [
    "## Prepare data"
   ]
  },
  {
   "cell_type": "code",
   "execution_count": 2,
   "metadata": {},
   "outputs": [
    {
     "name": "stdout",
     "output_type": "stream",
     "text": [
      "Successfully downloaded train-images-idx3-ubyte.gz 9912422 bytes.\n",
      "Extracting /tmp/data/train-images-idx3-ubyte.gz\n",
      "Successfully downloaded train-labels-idx1-ubyte.gz 28881 bytes.\n",
      "Extracting /tmp/data/train-labels-idx1-ubyte.gz\n",
      "Successfully downloaded t10k-images-idx3-ubyte.gz 1648877 bytes.\n",
      "Extracting /tmp/data/t10k-images-idx3-ubyte.gz\n",
      "Successfully downloaded t10k-labels-idx1-ubyte.gz 4542 bytes.\n",
      "Extracting /tmp/data/t10k-labels-idx1-ubyte.gz\n"
     ]
    }
   ],
   "source": [
    "# load data: digits 5 to 9, but still label with 0 to 4, \n",
    "# because TensorFlow expects label's integers from 0 to n_classes-1.\n",
    "from tensorflow.examples.tutorials.mnist import input_data\n",
    "mnist = input_data.read_data_sets(\"/tmp/data/\")\n",
    "\n",
    "X_train2_full = mnist.train.images[mnist.train.labels >= 5]\n",
    "y_train2_full = mnist.train.labels[mnist.train.labels >= 5] - 5\n",
    "X_valid2_full = mnist.validation.images[mnist.validation.labels >= 5]\n",
    "y_valid2_full = mnist.validation.labels[mnist.validation.labels >= 5] - 5\n",
    "X_test2 = mnist.test.images[mnist.test.labels >= 5]\n",
    "y_test2 = mnist.test.labels[mnist.test.labels >= 5] - 5"
   ]
  },
  {
   "cell_type": "code",
   "execution_count": 3,
   "metadata": {
    "collapsed": true
   },
   "outputs": [],
   "source": [
    "# we want to keep only 100 instances per class in the training set \n",
    "# and let's keep only 30 instances per class in the validation set\n",
    "# tesing set is already loaded above\n",
    "def sample_n_instances_per_class(X, y, n=100):\n",
    "    Xs, ys = [], []\n",
    "    for label in np.unique(y):\n",
    "        idx = (y == label)\n",
    "        Xc = X[idx][:n]\n",
    "        yc = y[idx][:n]\n",
    "        Xs.append(Xc)\n",
    "        ys.append(yc)\n",
    "    return np.concatenate(Xs), np.concatenate(ys)\n",
    "\n",
    "X_train2, y_train2 = sample_n_instances_per_class(X_train2_full, y_train2_full, n=100)\n",
    "X_valid2, y_valid2 = sample_n_instances_per_class(X_valid2_full, y_valid2_full, n=30)"
   ]
  },
  {
   "cell_type": "code",
   "execution_count": 4,
   "metadata": {},
   "outputs": [
    {
     "name": "stdout",
     "output_type": "stream",
     "text": [
      "Train Label:  (500, 5)\n",
      "Validation Label:  (150, 5)\n",
      "Test Label:  (4861, 5)\n"
     ]
    }
   ],
   "source": [
    "y_train_one_hot = np.zeros((len(y_train2), 5))\n",
    "y_train_one_hot[np.arange(len(y_train2)), y_train2] = 1\n",
    "\n",
    "y_valid_one_hot = np.zeros((len(y_valid2), 5))\n",
    "y_valid_one_hot[np.arange(len(y_valid2)), y_valid2] = 1\n",
    "\n",
    "y_test_one_hot = np.zeros((len(y_test2), 5))\n",
    "y_test_one_hot[np.arange(len(y_test2)), y_test2] = 1\n",
    "\n",
    "print (\"Train Label: \", y_train_one_hot.shape)\n",
    "print (\"Validation Label: \", y_valid_one_hot.shape)\n",
    "print (\"Test Label: \", y_test_one_hot.shape)"
   ]
  },
  {
   "cell_type": "markdown",
   "metadata": {},
   "source": [
    "## Model"
   ]
  },
  {
   "cell_type": "code",
   "execution_count": 5,
   "metadata": {
    "collapsed": true
   },
   "outputs": [],
   "source": [
    "def layer(output_dim, input_dim, inputs, layer, dropout_rate, activation=None):\n",
    "    \"\"\"\n",
    "    layer construction function\n",
    "    \"\"\"\n",
    "    W = tf.get_variable(\"W\" + layer, shape=[input_dim, output_dim], initializer=tf.contrib.layers.variance_scaling_initializer())\n",
    "    b = tf.get_variable(\"b\" + layer, shape=[1, output_dim], initializer=tf.contrib.layers.variance_scaling_initializer())\n",
    "\n",
    "    XWb = tf.matmul(inputs, W) + b\n",
    "    XWb = tf.nn.dropout(XWb, (1-dropout_rate))\n",
    "    if activation is None:\n",
    "        outputs = XWb\n",
    "    else:\n",
    "        outputs = activation(XWb)\n",
    "    return outputs\n",
    "\n",
    "class MyModel():\n",
    "    def __init__(self):\n",
    "        self.define_layers()\n",
    "        \n",
    "    def define_layers(self):\n",
    "        self.x = tf.placeholder(\"float\", [None, 784])  # input layer\n",
    "        \n",
    "        # hidden layers\n",
    "        self.h1 = layer(output_dim=128, input_dim=784, inputs=self.x, layer=\"h1\", dropout_rate=0, activation=tf.nn.elu)\n",
    "        self.h2 = layer(output_dim=128, input_dim=128, inputs=self.h1, layer=\"h2\", dropout_rate=0, activation=tf.nn.elu)\n",
    "        self.h3 = layer(output_dim=128, input_dim=128, inputs=self.h2, layer=\"h3\", dropout_rate=0, activation=tf.nn.elu)\n",
    "        self.h4 = layer(output_dim=128, input_dim=128, inputs=self.h3, layer=\"h4\", dropout_rate=0, activation=tf.nn.elu)\n",
    "        self.h5 = layer(output_dim=128, input_dim=128, inputs=self.h4, layer=\"h5\", dropout_rate=0, activation=tf.nn.elu)\n",
    "        \n",
    "        # output layers\n",
    "        self.y_predict = layer(output_dim=5, input_dim=128, inputs=self.h5, layer=\"output\", dropout_rate=0, activation=None)\n",
    "        self.y_label = tf.placeholder(\"float\", [None, 5])\n",
    "        \n",
    "model = MyModel()\n"
   ]
  },
  {
   "cell_type": "markdown",
   "metadata": {},
   "source": [
    "## Play on \"MyModel\""
   ]
  },
  {
   "cell_type": "code",
   "execution_count": 8,
   "metadata": {},
   "outputs": [
    {
     "name": "stdout",
     "output_type": "stream",
     "text": [
      "************************************************************\n",
      "Best epoch: 26\n",
      "Best accurancy: 0.586667\n",
      "************************************************************ \n",
      "\n",
      "============================================================\n",
      "Accurancy 0.556264\n",
      "============================================================ \n",
      "\n"
     ]
    }
   ],
   "source": [
    "# hyper parameters\n",
    "lr = 0.005\n",
    "batch_size = 256\n",
    "epochs = 350\n",
    "saturate_limit = 20  # for applying early stopping\n",
    "fold_num = 10\n",
    "\n",
    "# parameters\n",
    "iterations = int(X_train2.shape[0] / batch_size)\n",
    "saturate_count = 0\n",
    "best_acc = 0.\n",
    "best_epoch = -1\n",
    "\n",
    "# compare prediction and label\n",
    "correct_prediction = tf.equal(tf.argmax(model.y_label, 1), tf.argmax(model.y_predict, 1))\n",
    "accuracy = tf.reduce_mean(tf.cast(correct_prediction, \"float\"))\n",
    "\n",
    "# merge the train and validation list\n",
    "X_data = np.concatenate((X_train2, X_valid2), axis=0)\n",
    "y_data = np.concatenate((y_train_one_hot, y_valid_one_hot), axis=0)\n",
    "\n",
    "# set the loss function; tf.nn.sparse_softmax_cross_entropy_with_logits required by the homework spec\n",
    "loss_function = tf.reduce_mean(tf.nn.softmax_cross_entropy_with_logits(logits=model.y_predict, labels=model.y_label))\n",
    "\n",
    "# set the optimizer\n",
    "optimizer = tf.train.AdamOptimizer(learning_rate=lr) \\\n",
    "                    .minimize(loss_function)\n",
    "\n",
    "with tf.Session() as sess:\n",
    "    sess.run(tf.global_variables_initializer())\n",
    "    \n",
    "    for e in range(epochs):\n",
    "        for i in range(iterations):\n",
    "            if(i==0):\n",
    "                batch_x = X_train2[:batch_size]\n",
    "                batch_y = y_train_one_hot[:batch_size]\n",
    "            else:\n",
    "                batch_x = X_train2[i * batch_size : (i + 1) * batch_size]\n",
    "                batch_y = y_train_one_hot[i * batch_size : (i + 1) * batch_size]\n",
    "\n",
    "            sess.run(optimizer, feed_dict={model.x: batch_x, model.y_label: batch_y})\n",
    "        \n",
    "        # validate\n",
    "        loss, acc = sess.run([loss_function, accuracy], feed_dict={model.x: X_valid2, model.y_label: y_valid_one_hot})\n",
    "        \n",
    "        if best_acc < acc:\n",
    "            best_acc = acc\n",
    "            best_epoch = e\n",
    "            saturate_count = 0\n",
    "        else:\n",
    "            saturate_count += 1\n",
    "            \n",
    "            if saturate_count >= saturate_limit:  # stop if saturate\n",
    "                break        \n",
    "        \n",
    "    print('*' * 60)\n",
    "    print('Best epoch:', best_epoch)\n",
    "    print('Best accurancy:', best_acc)\n",
    "    print('*' * 60, '\\n')\n",
    "    \n",
    "    print('=' * 60)\n",
    "    print(\"Accurancy\", sess.run(accuracy,\n",
    "                               feed_dict={model.x: X_test2,\n",
    "                                          model.y_label: y_test_one_hot}))\n",
    "    print('=' * 60, '\\n')\n"
   ]
  },
  {
   "cell_type": "markdown",
   "metadata": {
    "collapsed": true
   },
   "source": [
    "## HW 3.1 - Softmax-only transfer-learning"
   ]
  },
  {
   "cell_type": "markdown",
   "metadata": {},
   "source": [
    "## HW 3.2 - Caching the 5th layer"
   ]
  },
  {
   "cell_type": "markdown",
   "metadata": {},
   "source": [
    "## HW 3.3 - 4-layers-only transfer-learning"
   ]
  },
  {
   "cell_type": "markdown",
   "metadata": {},
   "source": [
    "## HW 3.4 - Bonus"
   ]
  }
 ],
 "metadata": {
  "kernelspec": {
   "display_name": "Python 3",
   "language": "python",
   "name": "python3"
  },
  "language_info": {
   "codemirror_mode": {
    "name": "ipython",
    "version": 3
   },
   "file_extension": ".py",
   "mimetype": "text/x-python",
   "name": "python",
   "nbconvert_exporter": "python",
   "pygments_lexer": "ipython3",
   "version": "3.5.4"
  }
 },
 "nbformat": 4,
 "nbformat_minor": 2
}
